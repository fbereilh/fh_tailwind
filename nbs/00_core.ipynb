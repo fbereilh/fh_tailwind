{
 "cells": [
  {
   "cell_type": "code",
   "execution_count": 1,
   "metadata": {
    "tags": []
   },
   "outputs": [],
   "source": [
    "#| default_exp core"
   ]
  },
  {
   "cell_type": "markdown",
   "metadata": {},
   "source": [
    "# core\n",
    "\n",
    "> Looks for tailwind classes in FastTags and ships them to styles.css"
   ]
  },
  {
   "cell_type": "code",
   "execution_count": 2,
   "metadata": {
    "tags": []
   },
   "outputs": [],
   "source": [
    "#| hide\n",
    "from nbdev.showdoc import *"
   ]
  },
  {
   "cell_type": "code",
   "execution_count": 3,
   "metadata": {
    "tags": []
   },
   "outputs": [],
   "source": [
    "#| export\n",
    "import re\n",
    "import os\n",
    "import shutil\n",
    "from pathlib import Path\n",
    "import subprocess\n",
    "import sys"
   ]
  },
  {
   "cell_type": "code",
   "execution_count": 4,
   "metadata": {
    "tags": []
   },
   "outputs": [],
   "source": [
    "#| export\n",
    "def run_command(command, cwd=None):\n",
    "    \"\"\"Utility function to run shell commands.\"\"\"\n",
    "    process = subprocess.Popen(command, shell=True, cwd=cwd)\n",
    "    process.communicate()\n"
   ]
  },
  {
   "cell_type": "code",
   "execution_count": 5,
   "metadata": {
    "tags": []
   },
   "outputs": [
    {
     "name": "stdout",
     "output_type": "stream",
     "text": [
      "hi\n"
     ]
    }
   ],
   "source": [
    "run_command(\"echo hi\")"
   ]
  },
  {
   "cell_type": "code",
   "execution_count": 6,
   "metadata": {
    "tags": []
   },
   "outputs": [],
   "source": [
    "#| export\n",
    "def check_node_installed():\n",
    "    \"\"\"Check if Node.js is installed and accessible in the PATH.\"\"\"\n",
    "    try:\n",
    "        result = subprocess.run(['node', '--version'], capture_output=True, text=True, check=True)\n",
    "        print(f\"Node.js is installed. Version: {result.stdout.strip()}\")\n",
    "    except (subprocess.CalledProcessError, FileNotFoundError):\n",
    "        print(\"Node.js is required but not installed or not found in PATH.\")\n",
    "        print(\"Please install Node.js from https://nodejs.org/\")\n",
    "        sys.exit(1)"
   ]
  },
  {
   "cell_type": "markdown",
   "metadata": {},
   "source": [
    "fh_tailwind needs node, so we need to ensure it is installed."
   ]
  },
  {
   "cell_type": "code",
   "execution_count": 7,
   "metadata": {
    "tags": []
   },
   "outputs": [],
   "source": [
    "#| export\n",
    "def setup_tailwind():\n",
    "    \"\"\"Install and configure Tailwind CSS and DaisyUI in the node directory.\"\"\"\n",
    "    # Check if Node.js is installed\n",
    "    check_node_installed()\n",
    "\n",
    "    root_dir = Path.cwd()\n",
    "    node_dir = root_dir / 'node'\n",
    "    public_dir = root_dir / 'public'\n",
    "    \n",
    "    # Create necessary folders\n",
    "    public_dir.mkdir(parents=True, exist_ok=True)\n",
    "    node_dir.mkdir(parents=True, exist_ok=True)\n",
    "\n",
    "    # Step 1: Initialize Node.js and Install Tailwind CSS and DaisyUI\n",
    "    print(\"Initializing Node.js project and installing Tailwind CSS and DaisyUI...\")\n",
    "    run_command('npm init -y', cwd=node_dir)\n",
    "    run_command('npm install tailwindcss@3.4.13 daisyui@4.12.13', cwd=node_dir)\n",
    "\n",
    "    print(\"Creating Tailwind configuration file with custom theme...\")\n",
    "    tailwind_config_path = node_dir / 'tailwind.config.js'\n",
    "    \n",
    "    tailwind_config_content = \"\"\"\n",
    "module.exports = {\n",
    "  content: [\"./extracted_classes.html\"],\n",
    "  plugins: [require('daisyui')],\n",
    "  daisyui: {\n",
    "    themes: [\n",
    "      {\n",
    "        \"mytheme\": {\n",
    "          \"primary\": \"#a2d7db\",\n",
    "          \"secondary\": \"#fede80\",\n",
    "          \"accent\": \"#f0938e\",\n",
    "          \"neutral\": \"#d8d8d8\",\n",
    "          \"base-100\": \"#ebebeb\",\n",
    "          \"info\": \"#0ea5e9\",\n",
    "          \"success\": \"#22c55e\",\n",
    "          \"warning\": \"#eab308\",\n",
    "          \"error\": \"#ef4444\",\n",
    "          \"--rounded-box\": \"1rem\",\n",
    "          \"--rounded-btn\": \"0.5rem\",\n",
    "          \"--rounded-badge\": \"1.9rem\",\n",
    "          \"--animation-btn\": \"0.25s\",\n",
    "          \"--animation-input\": \"0.2s\",\n",
    "          \"--btn-focus-scale\": \"0.95\",\n",
    "          \"--border-btn\": \"1px\",\n",
    "          \"--tab-border\": \"1px\",\n",
    "          \"--tab-radius\": \"0.5rem\",\n",
    "        },\n",
    "      },\n",
    "      \"light\", \"dark\"\n",
    "    ],\n",
    "  },\n",
    "}\n",
    "\"\"\"\n",
    "    with tailwind_config_path.open('w') as f:\n",
    "        f.write(tailwind_config_content)\n",
    "\n",
    "    # Step 3: Create a CSS file to define Tailwind CSS setup\n",
    "    print(\"Creating Tailwind input CSS file in the node directory...\")\n",
    "    tailwind_css_path = node_dir / 'tailwind.css'\n",
    "    tailwind_css_content = \"\"\"\n",
    "@tailwind base;\n",
    "@tailwind components;\n",
    "@tailwind utilities;\n",
    "\n",
    "@layer components {\n",
    "  /* You can add your custom component styles here */\n",
    "}\n",
    "\"\"\"\n",
    "    with tailwind_css_path.open('w') as f:\n",
    "        f.write(tailwind_css_content)\n",
    "        \n",
    "    # Step 5: Create a .gitignore file to exclude node_modules\n",
    "    print(\"Creating .gitignore file in the node directory...\")\n",
    "    gitignore_path = node_dir / '.gitignore'\n",
    "    gitignore_content = \"node_modules/\"\n",
    "    with gitignore_path.open('w') as f:\n",
    "        f.write(gitignore_content)\n",
    "\n",
    "    # Step 4: Build Tailwind CSS Once, Output to the Public Directory\n",
    "    print(\"Building Tailwind CSS...\")\n",
    "    output_css_path = public_dir / 'styles.css'\n",
    "    run_command(f'npx tailwindcss -i tailwind.css -o {output_css_path}', cwd=node_dir)\n",
    "\n",
    "    print(\"Tailwind CSS and DaisyUI setup is complete!\")\n",
    "\n",
    "\n"
   ]
  },
  {
   "cell_type": "markdown",
   "metadata": {},
   "source": [
    "We want this project structure to be created, node and public folders\n",
    "\n",
    "```\n",
    "project_root/\n",
    "  ├── node/\n",
    "  │   ├── package.json 📦\n",
    "  │   ├── tailwind.config.js ⚙️\n",
    "  │   ├── tailwind.css 🌊          \n",
    "  │   └── extracted_classes.html 📋 # Extracted classes from Python files\n",
    "  ├── public/\n",
    "  │   └── styles.css 🌈           # Built CSS output for styling\n",
    "  ├── main.py 🐍                  # Your FastHTML app entry point\n",
    "  └── other_project_files...\n",
    "```"
   ]
  },
  {
   "cell_type": "code",
   "execution_count": 8,
   "metadata": {
    "tags": []
   },
   "outputs": [
    {
     "name": "stdout",
     "output_type": "stream",
     "text": [
      "Node.js is installed. Version: v20.10.0\n",
      "Initializing Node.js project and installing Tailwind CSS and DaisyUI...\n",
      "Wrote to /home/lr/ofs/Felipe/fh_tailwind/nbs/tests/node/package.json:\n",
      "\n",
      "{\n",
      "  \"name\": \"node\",\n",
      "  \"version\": \"1.0.0\",\n",
      "  \"description\": \"\",\n",
      "  \"main\": \"index.js\",\n",
      "  \"scripts\": {\n",
      "    \"test\": \"echo \\\"Error: no test specified\\\" && exit 1\"\n",
      "  },\n",
      "  \"keywords\": [],\n",
      "  \"author\": \"\",\n",
      "  \"license\": \"ISC\"\n",
      "}\n",
      "\n",
      "\n",
      "\n",
      "added 117 packages, and audited 118 packages in 2s\n",
      "\n",
      "30 packages are looking for funding\n",
      "  run `npm fund` for details\n",
      "\n",
      "found 0 vulnerabilities\n",
      "Creating Tailwind configuration file with custom theme...\n",
      "Creating Tailwind input CSS file in the node directory...\n",
      "Creating .gitignore file in the node directory...\n",
      "Building Tailwind CSS...\n"
     ]
    },
    {
     "name": "stderr",
     "output_type": "stream",
     "text": [
      "\n",
      "Rebuilding...\n"
     ]
    },
    {
     "name": "stdout",
     "output_type": "stream",
     "text": [
      "\n",
      "🌼   \u001b[35mdaisyUI\u001b[39m \u001b[2m4.12.13\u001b[22m\n",
      "├─ \u001b[32m✔︎\u001b[39m 3 themes added\u001b[2m\t\thttps://daisyui.com/docs/themes\u001b[22m\n",
      "╰─ \u001b[32m★\u001b[39m \u001b[0mStar daisyUI on GitHub\u001b[0m\t\u001b[2mhttps://github.com/saadeghi/daisyui\u001b[22m\n",
      "\n",
      "Tailwind CSS and DaisyUI setup is complete!\n"
     ]
    },
    {
     "name": "stderr",
     "output_type": "stream",
     "text": [
      "\n",
      "\u001b[1m\u001b[33mwarn\u001b[39m\u001b[22m - No utility classes were detected in your source files. If this is unexpected, double-check the `content` option in your Tailwind CSS configuration.\n",
      "\u001b[1m\u001b[33mwarn\u001b[39m\u001b[22m - https://tailwindcss.com/docs/content-configuration\n",
      "\n",
      "Done in 537ms.\n"
     ]
    }
   ],
   "source": [
    "#| hide\n",
    "test_path = Path('tests')\n",
    "if test_path.exists():\n",
    "    shutil.rmtree(test_path)\n",
    "    \n",
    "test_path.mkdir()\n",
    "os.chdir(test_path)\n",
    "setup_tailwind()\n",
    "assert (Path() / 'public').exists()\n",
    "assert (Path() / 'node/tailwind.css').exists()\n",
    "assert (Path() / 'node/.gitignore').exists()\n",
    "\n",
    "os.chdir(Path('..'))"
   ]
  },
  {
   "cell_type": "code",
   "execution_count": 9,
   "metadata": {
    "tags": []
   },
   "outputs": [],
   "source": [
    "#| export\n",
    "#| code-fold\n",
    "def update_styles():\n",
    "    \"\"\"Extract Tailwind CSS classes from dynamic Python components and update Tailwind setup.\n",
    "    \"\"\"\n",
    "    project_root = Path.cwd()  # Get the current working directory\n",
    "    python_files = list(project_root.glob(\"**/*.py\"))  # Find all Python files in the project\n",
    "\n",
    "    all_classes = set()  # Set to hold unique class names\n",
    "\n",
    "    # Regular expression to match cls=\"...\" patterns\n",
    "    class_pattern = re.compile(r\"cls=['\\\"]([^'\\\"]+)['\\\"]\")\n",
    "\n",
    "    # Loop through all Python files and extract classes\n",
    "    for file in python_files:\n",
    "        with file.open() as f:\n",
    "            content = f.read()\n",
    "            matches = class_pattern.findall(content)\n",
    "            for match in matches:\n",
    "                # Split class strings into individual class names and add to the set\n",
    "                all_classes.update(match.split())\n",
    "\n",
    "    # Create an HTML file containing all the classes for Tailwind to scan\n",
    "    node_dir = project_root / \"node\"\n",
    "    extracted_classes_file = node_dir / \"extracted_classes.html\"\n",
    "    extracted_classes_file.parent.mkdir(parents=True, exist_ok=True)  # Ensure the node folder exists\n",
    "\n",
    "    with extracted_classes_file.open(\"w\") as output:\n",
    "        for cls in all_classes:\n",
    "            output.write(f\"<div class='{cls}'></div>\\n\")\n",
    "\n",
    "    print(f\"Classes extracted to '{extracted_classes_file}'.\")\n",
    "\n",
    "    # Run Tailwind CSS build or watch based on the 'watch' parameter\n",
    "    public_dir = project_root / 'public'\n",
    "    output_css_path = public_dir / 'styles.css'\n",
    "    input_css_path = project_root / 'node/tailwind.css'\n",
    "\n",
    "\n",
    "    print(\"Building styles.css...\")\n",
    "    run_command(f'npx tailwindcss -i {input_css_path} -o {output_css_path}', cwd=node_dir)"
   ]
  },
  {
   "cell_type": "code",
   "execution_count": 10,
   "metadata": {
    "tags": []
   },
   "outputs": [
    {
     "name": "stdout",
     "output_type": "stream",
     "text": [
      "Classes extracted to '/home/lr/ofs/Felipe/fh_tailwind/nbs/tests/node/extracted_classes.html'.\n",
      "Building styles.css...\n"
     ]
    },
    {
     "name": "stderr",
     "output_type": "stream",
     "text": [
      "\n",
      "Rebuilding...\n"
     ]
    },
    {
     "name": "stdout",
     "output_type": "stream",
     "text": [
      "\n",
      "🌼   \u001b[35mdaisyUI\u001b[39m \u001b[2m4.12.13\u001b[22m\n",
      "├─ \u001b[32m✔︎\u001b[39m 3 themes added\u001b[2m\t\thttps://daisyui.com/docs/themes\u001b[22m\n",
      "╰─ \u001b[32m❤︎\u001b[39m \u001b[0mSupport daisyUI project:\u001b[0m\t\u001b[2mhttps://opencollective.com/daisyui\u001b[22m\n",
      "\n"
     ]
    },
    {
     "name": "stderr",
     "output_type": "stream",
     "text": [
      "\n",
      "\u001b[1m\u001b[33mwarn\u001b[39m\u001b[22m - No utility classes were detected in your source files. If this is unexpected, double-check the `content` option in your Tailwind CSS configuration.\n",
      "\u001b[1m\u001b[33mwarn\u001b[39m\u001b[22m - https://tailwindcss.com/docs/content-configuration\n",
      "\n",
      "Done in 478ms.\n"
     ]
    }
   ],
   "source": [
    "#| hide\n",
    "test_python_file = test_path / 'test_component.py'\n",
    "test_python_file.touch()\n",
    "with test_python_file.open('w') as f:\n",
    "    f.write('cls=\"btn primary\"')\n",
    "\n",
    "os.chdir(test_path)\n",
    "update_styles() \n",
    "assert (Path() / 'node' / 'extracted_classes.html').exists()\n",
    "assert (Path() / 'public' / 'styles.css').exists()\n",
    "\n",
    "# Check that the styles.css file contains the expected styles\n",
    "with open(Path('public/styles.css'), 'r') as css_file:\n",
    "    css_content = css_file.read()\n",
    "    assert '.btn {' in css_content, \"The class 'btn' was not found in styles.css\"\n",
    "\n",
    "os.chdir(Path('..'))"
   ]
  },
  {
   "cell_type": "code",
   "execution_count": 11,
   "metadata": {
    "tags": []
   },
   "outputs": [],
   "source": [
    "#| hide\n",
    "import nbdev; nbdev.nbdev_export()"
   ]
  },
  {
   "cell_type": "code",
   "execution_count": null,
   "metadata": {},
   "outputs": [],
   "source": []
  }
 ],
 "metadata": {
  "kernelspec": {
   "display_name": "Python 3 (ipykernel)",
   "language": "python",
   "name": "python3"
  },
  "language_info": {
   "codemirror_mode": {
    "name": "ipython",
    "version": 3
   },
   "file_extension": ".py",
   "mimetype": "text/x-python",
   "name": "python",
   "nbconvert_exporter": "python",
   "pygments_lexer": "ipython3",
   "version": "3.10.13"
  }
 },
 "nbformat": 4,
 "nbformat_minor": 4
}

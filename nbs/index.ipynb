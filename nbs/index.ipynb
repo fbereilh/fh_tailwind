{
 "cells": [
  {
   "cell_type": "code",
   "execution_count": 1,
   "metadata": {
    "tags": []
   },
   "outputs": [],
   "source": [
    "#| hide\n",
    "from fh_tailwind.core import *"
   ]
  },
  {
   "cell_type": "markdown",
   "metadata": {},
   "source": [
    "# fh_tailwind\n",
    "\n",
    "> The FastHTML Tailwind package 🛠️ simplifies setting up Tailwind CSS 🎨 and DaisyUI 🌼 in FastHTML projects."
   ]
  },
  {
   "cell_type": "markdown",
   "metadata": {},
   "source": [
    "📖 Explore the Documentation for more examples and details!  \n",
    "https://fbereilh.github.io/fh_tailwind/\n"
   ]
  },
  {
   "cell_type": "markdown",
   "metadata": {},
   "source": [
    "## Key Features\n",
    "\n",
    "\n",
    "⚙️ Tailwind and DaisyUI Setup \n",
    "🔍 Dynamic Class Extraction \n",
    "🎨 Custom Themes \n"
   ]
  },
  {
   "cell_type": "markdown",
   "metadata": {
    "tags": []
   },
   "source": [
    "## 🛠️ Installation\n",
    "\n",
    "Ensure that Node.js is installed before proceeding.\n",
    "Install the package using pip:\n",
    "\n",
    "```sh\n",
    "$ pip install fh_tailwind\n",
    "\n",
    "```"
   ]
  },
  {
   "cell_type": "markdown",
   "metadata": {
    "tags": []
   },
   "source": [
    "## 🚀 Usage\n",
    "\n",
    "To set up Tailwind in your project, use the following command in the root of the project to initialize everything:\n",
    "\n",
    "```sh\n",
    "$ fh_tailwind_setup\n",
    "```\n",
    "\n",
    "This command will configure Tailwind and DaisyUI in your project, creating all necessary files and folders (public and node).\n",
    "\n",
    "## 📋 Example: FastHTML with Tailwind and DaisyUI\n",
    "\n",
    "To start using the package in your project:\n",
    "\n",
    "```python\n",
    "from fh_tailwind import update_styles\n",
    "from fasthtml.common import Link, fast_app, serve, Div, P\n",
    "\n",
    "hdrs = [Link(rel=\"stylesheet\", href=\"public/styles.css\", type=\"text/css\")]\n",
    "app, rt = fast_app(\n",
    "    live=True,  # 🔴 Enable live updates\n",
    "    pico=False,  # 🚫 Disable PicoCSS to use Tailwind instead\n",
    "    on_startup=[update_styles],  # 🔄 Run update_styles during startup\n",
    "    hdrs=hdrs,\n",
    "    htmlkw={\"data-theme\": \"mytheme\"},\n",
    ")\n",
    "\n",
    "@rt(\"/\")\n",
    "def get():\n",
    "    return Div(cls=\"flex items-center justify-center h-96\")(\n",
    "        P(cls=\"text-6xl text-center font-bold\")(\n",
    "            \"Hello, Tailwind and DaisyUI with mytheme is applied!\")\n",
    "        )\n",
    "\n",
    "serve()\n",
    "```\n",
    "\n",
    "## 📋 Requirements\n",
    "\n",
    "- Node.js: This package depends on Node.js for installing and managing Tailwind CSS and DaisyUI.\n",
    "\n",
    "- Python 3.x: This script uses Python 🐍 to manage files and execute commands.\n",
    "\n",
    "## 📜 License\n",
    "\n",
    "This package is open source under the MIT License.\n",
    "\n",
    "## 🤝 Contributions\n",
    "\n",
    "Contributions are welcome! Feel free to submit a pull request 🔃 or create an issue 🐞 if you find a bug or have a feature request.\n",
    "\n",
    "\n",
    "Happy coding with FastHTML and Tailwind CSS! 🎉💻 For more examples, detailed instructions, and further customization options, visit our official documentation."
   ]
  },
  {
   "cell_type": "code",
   "execution_count": 2,
   "metadata": {
    "tags": []
   },
   "outputs": [],
   "source": [
    "#| hide\n",
    "import nbdev; nbdev.nbdev_export()"
   ]
  },
  {
   "cell_type": "code",
   "execution_count": null,
   "metadata": {},
   "outputs": [],
   "source": []
  }
 ],
 "metadata": {
  "kernelspec": {
   "display_name": "Python 3 (ipykernel)",
   "language": "python",
   "name": "python3"
  },
  "language_info": {
   "codemirror_mode": {
    "name": "ipython",
    "version": 3
   },
   "file_extension": ".py",
   "mimetype": "text/x-python",
   "name": "python",
   "nbconvert_exporter": "python",
   "pygments_lexer": "ipython3",
   "version": "3.10.13"
  }
 },
 "nbformat": 4,
 "nbformat_minor": 4
}

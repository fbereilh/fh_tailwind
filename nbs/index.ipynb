{
 "cells": [
  {
   "cell_type": "code",
   "execution_count": 1,
   "metadata": {
    "tags": []
   },
   "outputs": [],
   "source": [
    "#| hide\n",
    "from fh_tailwind.core import *"
   ]
  },
  {
   "cell_type": "markdown",
   "metadata": {},
   "source": [
    "# fh_tailwind\n",
    "\n",
    "> Tool to use  Tailwind CSS and Daisyui  in your FastHTML projects."
   ]
  },
  {
   "cell_type": "markdown",
   "metadata": {},
   "source": [
    "📖 Explore the Documentation for more examples and details!\n",
    "https://fbereilh.github.io/fh_tailwind/\n",
    "\n",
    "The FastHTML Tailwind package 🛠️ simplifies setting up Tailwind CSS 🎨 and DaisyUI 🌼 in FastHTML projects. It allows for the seamless integration of Tailwind styling ✨ and custom themes 🎨 without relying on external CDNs 🌐. This package is designed specifically for developers 👨‍💻👩‍💻 using FastHTML who want to leverage the power of Tailwind CSS 💪 and DaisyUI to create visually stunning 🌟, highly customizable websites 🌍 efficiently."
   ]
  },
  {
   "cell_type": "markdown",
   "metadata": {},
   "source": [
    "## ✨ Key Features of FastHTML Tailwind Integration\n",
    "\n",
    "🗂️ Project Structure Creation: Automatically sets up the necessary folder structure 📂 for a new FastHTML project, making it easy to get started 🚀.\n",
    "\n",
    "⚙️ Tailwind and DaisyUI Setup: Installs and configures specific versions of Tailwind CSS (v3.4.13) and DaisyUI (v4.12.13) locally, ensuring consistent project behavior 🔄.\n",
    "\n",
    "🔍 Dynamic Class Extraction: Extracts Tailwind CSS classes from Python files 🐍 and generates a Tailwind configuration that includes those classes.\n",
    "\n",
    "🎨 Custom Themes: Configures DaisyUI with a custom theme to be used throughout your project.\n",
    "\n",
    "🧪 Automated Testing: Includes automated tests ✅ to ensure the correct project structure and CSS compilation.\n",
    "```"
   ]
  },
  {
   "cell_type": "markdown",
   "metadata": {
    "tags": []
   },
   "source": [
    "## 🛠️ Installation of FastHTML Tailwind\n",
    "\n",
    "Ensure that Node.js is installed before proceeding.\n",
    "\n",
    "To install the FastHTML Tailwind package, follow these steps:\n",
    "\n",
    "📥 Install the package using pip:\n",
    "\n",
    "```sh\n",
    "$ pip install fh_tailwind\n",
    "```"
   ]
  },
  {
   "cell_type": "markdown",
   "metadata": {
    "tags": []
   },
   "source": [
    "## 🚀 How to Use the FastHTML Tailwind Package\n",
    "\n",
    "To set up Tailwind in your project, use the following command to initialize everything:\n",
    "\n",
    "```sh\n",
    "$ fh_tailwind_setup\n",
    "```\n",
    "\n",
    "This command will configure Tailwind and DaisyUI in your project, creating all necessary files and folders (public and node). Note that the node folder will contain a node_modules directory, which should be added to your .gitignore file to avoid committing unnecessary dependencies.\n",
    "\n",
    "Once everything is set up, add update_styles to the on_startup parameter of your FastHTML app. This function extracts all cls attributes from your Python components, ensuring that Tailwind CSS generates the necessary styles:\n",
    "\n",
    "🐍 Scans all Python files in your project.\n",
    "\n",
    "📄 Extracts the classes used and creates an HTML file for Tailwind to scan.\n",
    "\n",
    "🖌️ Generates styles.css from the input Tailwind file.\n",
    "\n",
    "## 📋 Example: FastHTML with Tailwind and DaisyUI\n",
    "\n",
    "To start using the package in your project:\n",
    "\n",
    "```python\n",
    "from fh_tailwind import update_styles\n",
    "from fasthtml.common import Link, fast_app, serve, Div, P\n",
    "\n",
    "hdrs = [Link(rel=\"stylesheet\", href=\"public/styles.css\", type=\"text/css\")]\n",
    "app, rt = fast_app(\n",
    "    live=True,  # 🔴 Enable live updates\n",
    "    pico=False,  # 🚫 Disable PicoCSS to use Tailwind instead\n",
    "    on_startup=[update_styles],  # 🔄 Run update_styles during startup\n",
    "    hdrs=hdrs,\n",
    "    htmlkw={\"data-theme\": \"mytheme\"},\n",
    ")\n",
    "\n",
    "@rt(\"/\")\n",
    "def get():\n",
    "    return Div(cls=\"flex items-center justify-center h-96\")(\n",
    "        P(cls=\"text-6xl text-center font-bold\")(\n",
    "            \"Hello, Tailwind and DaisyUI with mytheme is applied!\")\n",
    "        )\n",
    "\n",
    "serve()\n",
    "```\n",
    "\n",
    "## 📋 Requirements\n",
    "\n",
    "- Node.js: This package depends on Node.js for installing and managing Tailwind CSS and DaisyUI.\n",
    "\n",
    "- Python 3.x: This script uses Python 🐍 to manage files and execute commands.\n",
    "\n",
    "## 📜 License\n",
    "\n",
    "This package is open source under the MIT License.\n",
    "\n",
    "## 🤝 Contributions\n",
    "\n",
    "Contributions are welcome! Feel free to submit a pull request 🔃 or create an issue 🐞 if you find a bug or have a feature request.\n",
    "\n",
    "\n",
    "Happy coding with FastHTML and Tailwind CSS! 🎉💻 For more examples, detailed instructions, and further customization options, visit our official documentation."
   ]
  },
  {
   "cell_type": "markdown",
   "metadata": {},
   "source": [
    "[repo]: https://github.com/fbereilh/fh_tailwind\n",
    "[docs]: https://fbereilh.github.io/fh_tailwind/\n",
    "[pypi]: https://pypi.org/project/fh_tailwind/"
   ]
  },
  {
   "cell_type": "code",
   "execution_count": null,
   "metadata": {},
   "outputs": [],
   "source": []
  }
 ],
 "metadata": {
  "kernelspec": {
   "display_name": "Python 3 (ipykernel)",
   "language": "python",
   "name": "python3"
  },
  "language_info": {
   "codemirror_mode": {
    "name": "ipython",
    "version": 3
   },
   "file_extension": ".py",
   "mimetype": "text/x-python",
   "name": "python",
   "nbconvert_exporter": "python",
   "pygments_lexer": "ipython3",
   "version": "3.10.13"
  }
 },
 "nbformat": 4,
 "nbformat_minor": 4
}
